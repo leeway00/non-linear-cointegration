{
 "cells": [
  {
   "cell_type": "code",
   "execution_count": 13,
   "metadata": {},
   "outputs": [
    {
     "name": "stdout",
     "output_type": "stream",
     "text": [
      "The autoreload extension is already loaded. To reload it, use:\n",
      "  %reload_ext autoreload\n"
     ]
    }
   ],
   "source": [
    "import os\n",
    "\n",
    "import numpy as np\n",
    "from scipy.linalg import cholesky, solve_triangular\n",
    "from numpy.linalg import inv\n",
    "from numba import jit\n",
    "from tqdm import tqdm\n",
    "\n",
    "from funcs.data_process import *\n",
    "from funcs.VECM import *\n",
    "from funcs.TVECM import *\n",
    "\n",
    "import warnings\n",
    "warnings.filterwarnings('ignore')\n",
    "\n",
    "%load_ext autoreload\n",
    "%autoreload 2"
   ]
  },
  {
   "cell_type": "code",
   "execution_count": 14,
   "metadata": {},
   "outputs": [],
   "source": [
    "data = pd.read_csv('./sp500_etf.csv', index_col = 0)\n",
    "data.index = pd.to_datetime(data.index)\n",
    "\n",
    "price_in, price_out, ret_in, ret_out = yearly_sample(2015, data)\n",
    "pair = ['IVV','SPY']\n",
    "\n",
    "train = ret_in[pair]\n",
    "test = ret_out[pair]\n",
    "\n",
    "train_log = np.log(price_in[pair])\n",
    "train_price = price_in[pair]\n",
    "test = price_out[pair]"
   ]
  },
  {
   "cell_type": "code",
   "execution_count": 15,
   "metadata": {},
   "outputs": [],
   "source": [
    "beta = train_price.cov().iloc[0,1]/train_price.cov().iloc[1,1]"
   ]
  },
  {
   "cell_type": "code",
   "execution_count": 16,
   "metadata": {},
   "outputs": [
    {
     "name": "stdout",
     "output_type": "stream",
     "text": [
      "(2, 96)\n"
     ]
    },
    {
     "name": "stderr",
     "output_type": "stream",
     "text": [
      "100%|██████████| 100/100 [01:09<00:00,  1.44it/s]\n"
     ]
    },
    {
     "data": {
      "text/plain": [
       "{'supWald': 138.96743635377516,\n",
       " 'gamma1': -0.6457045722924524,\n",
       " 'gamma2': -0.5585529877598041,\n",
       " 'PvalBoot': 0.6,\n",
       " 'CriticalValBoot': array([ 525.77363151,  737.88195364,  993.2755862 , 1147.87026536])}"
      ]
     },
     "execution_count": 16,
     "metadata": {},
     "output_type": "execute_result"
    }
   ],
   "source": [
    "TVECM_SeoTest(train_price.values[100:200], 3, beta, 100, 0.1, ngrid = 100)"
   ]
  },
  {
   "cell_type": "code",
   "execution_count": null,
   "metadata": {},
   "outputs": [],
   "source": []
  }
 ],
 "metadata": {
  "kernelspec": {
   "display_name": "hun",
   "language": "python",
   "name": "python3"
  },
  "language_info": {
   "codemirror_mode": {
    "name": "ipython",
    "version": 3
   },
   "file_extension": ".py",
   "mimetype": "text/x-python",
   "name": "python",
   "nbconvert_exporter": "python",
   "pygments_lexer": "ipython3",
   "version": "3.10.10"
  },
  "orig_nbformat": 4
 },
 "nbformat": 4,
 "nbformat_minor": 2
}
