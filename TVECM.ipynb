{
 "cells": [
  {
   "cell_type": "code",
   "execution_count": 1,
   "metadata": {},
   "outputs": [],
   "source": [
    "import os\n",
    "\n",
    "import numpy as np\n",
    "\n",
    "from nonlin_coint.data_process import *\n",
    "from nonlin_coint.VECM import *\n",
    "from nonlin_coint.TVECM import *\n",
    "\n",
    "import warnings\n",
    "warnings.filterwarnings('ignore')\n",
    "\n",
    "%load_ext autoreload\n",
    "%autoreload 2"
   ]
  },
  {
   "cell_type": "code",
   "execution_count": 2,
   "metadata": {},
   "outputs": [],
   "source": [
    "data = pd.read_csv('./sp500_etf.csv', index_col = 0)\n",
    "data.index = pd.to_datetime(data.index)\n",
    "\n",
    "price_in, price_out, ret_in, ret_out = yearly_sample(2015, data)\n",
    "pair = ['IVV','SPY']\n",
    "\n",
    "train = ret_in[pair]\n",
    "test = ret_out[pair]\n",
    "\n",
    "train_log = np.log(price_in[pair])\n",
    "train_price = price_in[pair]\n",
    "test = price_out[pair]"
   ]
  },
  {
   "cell_type": "code",
   "execution_count": 3,
   "metadata": {},
   "outputs": [],
   "source": [
    "beta = train_price.cov().iloc[0,1]/train_price.cov().iloc[1,1]"
   ]
  },
  {
   "cell_type": "code",
   "execution_count": 4,
   "metadata": {},
   "outputs": [
    {
     "name": "stderr",
     "output_type": "stream",
     "text": [
      "100%|██████████| 10/10 [01:20<00:00,  8.07s/it]\n"
     ]
    },
    {
     "data": {
      "text/plain": [
       "{'supWald': 58.148544547851564,\n",
       " 'gamma1': -0.6201092054853624,\n",
       " 'gamma2': -0.5594589734402675,\n",
       " 'PvalBoot': 1.0,\n",
       " 'CriticalValBoot': array([1111.64357959, 1358.54149238, 1481.99044878, 1556.05982262])}"
      ]
     },
     "execution_count": 4,
     "metadata": {},
     "output_type": "execute_result"
    }
   ],
   "source": [
    "TVECM_SeoTest(train_price.values, 3, beta, 30, 0.1, ngrid = 100)"
   ]
  },
  {
   "cell_type": "code",
   "execution_count": null,
   "metadata": {},
   "outputs": [],
   "source": []
  }
 ],
 "metadata": {
  "kernelspec": {
   "display_name": "hun",
   "language": "python",
   "name": "python3"
  },
  "language_info": {
   "codemirror_mode": {
    "name": "ipython",
    "version": 3
   },
   "file_extension": ".py",
   "mimetype": "text/x-python",
   "name": "python",
   "nbconvert_exporter": "python",
   "pygments_lexer": "ipython3",
   "version": "3.10.10"
  },
  "orig_nbformat": 4
 },
 "nbformat": 4,
 "nbformat_minor": 2
}
